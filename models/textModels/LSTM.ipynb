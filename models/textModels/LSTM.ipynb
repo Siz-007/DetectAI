{
 "cells": [
  {
   "cell_type": "code",
   "execution_count": 1,
   "id": "ec7197ef-9849-4824-babf-4f5b95b5c631",
   "metadata": {},
   "outputs": [],
   "source": [
    "import pandas as pd\n",
    "from keras.models import Sequential\n",
    "from keras.layers import LSTM, Dense, Embedding, SpatialDropout1D\n",
    "from keras.preprocessing.sequence import pad_sequences\n",
    "from keras.preprocessing.text import Tokenizer\n",
    "from sklearn.feature_extraction.text import TfidfVectorizer\n",
    "from sklearn.model_selection import train_test_split\n",
    "from sklearn.metrics import accuracy_score, classification_report\n",
    "import joblib"
   ]
  },
  {
   "cell_type": "code",
   "execution_count": 2,
   "id": "6b77fc32-4d9c-4746-b06c-70797ac218e0",
   "metadata": {},
   "outputs": [],
   "source": [
    "all_texts = pd.read_csv(\"all_texts.csv\")"
   ]
  },
  {
   "cell_type": "code",
   "execution_count": 3,
   "id": "8759d135-10fb-40d2-84e0-6d75efc95e3c",
   "metadata": {},
   "outputs": [],
   "source": [
    "train_texts, test_texts, train_labels, test_labels = train_test_split(all_texts['text'], all_texts['result'], test_size=0.3, random_state=42)"
   ]
  },
  {
   "cell_type": "code",
   "execution_count": 4,
   "id": "23dd9c93-24ec-42b7-8581-ab962e4a7fcf",
   "metadata": {},
   "outputs": [],
   "source": [
    "# Convert text data into numerical vectors using TF-IDF vectorization\n",
    "tfidf_vectorizer = TfidfVectorizer(max_features=5000)\n",
    "train_texts_tfidf = tfidf_vectorizer.fit_transform(train_texts)\n",
    "test_texts_tfidf = tfidf_vectorizer.transform(test_texts)"
   ]
  },
  {
   "cell_type": "code",
   "execution_count": 5,
   "id": "23551302-1d99-40d4-b9ea-d190acffc292",
   "metadata": {},
   "outputs": [],
   "source": [
    "max_words = 5000\n",
    "max_len = 200\n",
    "\n",
    "tokenizer = Tokenizer(num_words=max_words)\n",
    "tokenizer.fit_on_texts(train_texts)\n",
    "\n",
    "train_sequences = tokenizer.texts_to_sequences(train_texts)\n",
    "test_sequences = tokenizer.texts_to_sequences(test_texts)\n",
    "train_pad = pad_sequences(train_sequences, maxlen=max_len)\n",
    "test_pad = pad_sequences(test_sequences, maxlen=max_len)"
   ]
  },
  {
   "cell_type": "code",
   "execution_count": 7,
   "id": "0145a5ef-fa76-4889-904b-4b5b3893221a",
   "metadata": {},
   "outputs": [
    {
     "name": "stdout",
     "output_type": "stream",
     "text": [
      "Model: \"sequential_1\"\n",
      "_________________________________________________________________\n",
      " Layer (type)                Output Shape              Param #   \n",
      "=================================================================\n",
      " embedding_1 (Embedding)     (None, 200, 64)           320000    \n",
      "                                                                 \n",
      " spatial_dropout1d_1 (Spati  (None, 200, 64)           0         \n",
      " alDropout1D)                                                    \n",
      "                                                                 \n",
      " lstm_1 (LSTM)               (None, 100)               66000     \n",
      "                                                                 \n",
      " dense_1 (Dense)             (None, 1)                 101       \n",
      "                                                                 \n",
      "=================================================================\n",
      "Total params: 386101 (1.47 MB)\n",
      "Trainable params: 386101 (1.47 MB)\n",
      "Non-trainable params: 0 (0.00 Byte)\n",
      "_________________________________________________________________\n"
     ]
    }
   ],
   "source": [
    "# Define LSTM model architecture\n",
    "lstm_model = Sequential()\n",
    "lstm_model.add(Embedding(max_words, 64, input_length=max_len))\n",
    "lstm_model.add(SpatialDropout1D(0.2))\n",
    "lstm_model.add(LSTM(100, dropout=0.2, recurrent_dropout=0.2))\n",
    "lstm_model.add(Dense(1, activation='sigmoid'))\n",
    "\n",
    "lstm_model.compile(loss='binary_crossentropy', optimizer='adam', metrics=['accuracy'])\n",
    "lstm_model.summary()"
   ]
  },
  {
   "cell_type": "code",
   "execution_count": 10,
   "id": "ee753a05-6f6a-4343-83e9-e387923b328d",
   "metadata": {},
   "outputs": [
    {
     "name": "stdout",
     "output_type": "stream",
     "text": [
      "Epoch 1/5\n",
      "2297/2297 [==============================] - 702s 305ms/step - loss: 0.1817 - accuracy: 0.9306 - val_loss: 0.1662 - val_accuracy: 0.9396\n",
      "Epoch 2/5\n",
      "2297/2297 [==============================] - 694s 302ms/step - loss: 0.1449 - accuracy: 0.9456 - val_loss: 0.1652 - val_accuracy: 0.9371\n",
      "Epoch 3/5\n",
      "2297/2297 [==============================] - 923s 402ms/step - loss: 0.1228 - accuracy: 0.9538 - val_loss: 0.1403 - val_accuracy: 0.9471\n",
      "Epoch 4/5\n",
      "2297/2297 [==============================] - 1353s 589ms/step - loss: 0.1067 - accuracy: 0.9602 - val_loss: 0.1604 - val_accuracy: 0.9445\n",
      "Epoch 5/5\n",
      "2297/2297 [==============================] - 1351s 588ms/step - loss: 0.0920 - accuracy: 0.9659 - val_loss: 0.1501 - val_accuracy: 0.9477\n"
     ]
    },
    {
     "data": {
      "text/plain": [
       "<keras.src.callbacks.History at 0x2abb56a3110>"
      ]
     },
     "execution_count": 10,
     "metadata": {},
     "output_type": "execute_result"
    }
   ],
   "source": [
    "# Train the LSTM model\n",
    "lstm_model.fit(train_pad, train_labels, epochs=5, batch_size=64, validation_split=0.3)"
   ]
  },
  {
   "cell_type": "code",
   "execution_count": 12,
   "id": "623cc26a-4d1f-4c90-9026-4913692cefe5",
   "metadata": {},
   "outputs": [],
   "source": [
    "# Save the model\n",
    "#lstm_model.save('LSTM_model.h5')"
   ]
  },
  {
   "cell_type": "code",
   "execution_count": 20,
   "id": "a800b812-a2c8-4914-9917-69df9dd30836",
   "metadata": {},
   "outputs": [
    {
     "name": "stdout",
     "output_type": "stream",
     "text": [
      "2813/2813 [==============================] - 68s 24ms/step\n",
      "Accuracy: 0.9477888888888889\n",
      "Classification Report:\n",
      "               precision    recall  f1-score   support\n",
      "\n",
      "           0       0.93      0.96      0.95     44901\n",
      "           1       0.96      0.93      0.95     45099\n",
      "\n",
      "    accuracy                           0.95     90000\n",
      "   macro avg       0.95      0.95      0.95     90000\n",
      "weighted avg       0.95      0.95      0.95     90000\n",
      "\n"
     ]
    }
   ],
   "source": [
    "# Predict on test data\n",
    "predictions = lstm_model.predict(test_pad)\n",
    "binary_predictions = (predictions > 0.5).astype('int32')\n",
    "# Calculate accuracy and other metrics\n",
    "accuracy = accuracy_score(test_labels, binary_predictions)\n",
    "classification_rep = classification_report(test_labels, binary_predictions)\n",
    "\n",
    "print(f\"Accuracy: {accuracy}\")\n",
    "print(\"Classification Report:\\n\", classification_rep)"
   ]
  },
  {
   "cell_type": "code",
   "execution_count": 30,
   "id": "443c555b-2ff3-40c8-83c9-5cd94deda7e9",
   "metadata": {},
   "outputs": [],
   "source": [
    "from keras.models import load_model\n",
    "\n",
    "# Load the saved model\n",
    "loaded_model = load_model('lstm_model.h5')"
   ]
  },
  {
   "cell_type": "code",
   "execution_count": 35,
   "id": "105d9e97-1403-409c-a0c0-783c3fa485c1",
   "metadata": {},
   "outputs": [
    {
     "name": "stdout",
     "output_type": "stream",
     "text": [
      "1/1 [==============================] - 0s 60ms/step\n",
      "Predictions: [1]\n"
     ]
    }
   ],
   "source": [
    "random_text = \"I was in Russia when the war broke out. Dimitri slovak, my contact at Moscow, hid me in his basement. I lived in that cold basement for 3 months until oneday Dimitri came to me and said, You are a good man alex but I cannot hide you anymore. If they find you here they will kill my whole family. I never wanted to become his burden that night I decided to leave. I packet my bag said farewell to Dimitri Slovak and my journey begin from Moscow to florida. It had just been few minutes I left Dimitri Slovak's residence, I saw a man about 6 ft tall wearing a large overcoat. He was drinking something from a bottle. He was far but I cound clearly tell he was having some liquor. I thought he was some drunkard and deided to walk just past him. As i was about to pass him, he looked at me and asked Do you want some vodka my friend?, No thanks I replied before even realizing a drunk man in the heart of Russia talked to me in English. my body frooze only thing I cound do was to stare at him thinking it was my end. Did you really think you could just walk out of here? he asked as I kept watching him in horror.\"\n",
    "tokenizer = Tokenizer(num_words=max_words)\n",
    "tokenizer.fit_on_texts(random_text)\n",
    "text_sequence = tokenizer.texts_to_sequences(random_text)[0]\n",
    "text_pad = pad_sequences([text_sequence], maxlen=max_len)\n",
    "result = loaded_model.predict(text_pad)[0]\n",
    "binary_result = [1] if result > 0.5 else [0] \n",
    "print(\"Predictions:\", binary_result)"
   ]
  },
  {
   "cell_type": "code",
   "execution_count": null,
   "id": "b3fbda95-abbf-4ce1-a535-ce484996a1a4",
   "metadata": {},
   "outputs": [],
   "source": []
  }
 ],
 "metadata": {
  "kernelspec": {
   "display_name": "Python 3 (ipykernel)",
   "language": "python",
   "name": "python3"
  },
  "language_info": {
   "codemirror_mode": {
    "name": "ipython",
    "version": 3
   },
   "file_extension": ".py",
   "mimetype": "text/x-python",
   "name": "python",
   "nbconvert_exporter": "python",
   "pygments_lexer": "ipython3",
   "version": "3.11.6"
  }
 },
 "nbformat": 4,
 "nbformat_minor": 5
}
